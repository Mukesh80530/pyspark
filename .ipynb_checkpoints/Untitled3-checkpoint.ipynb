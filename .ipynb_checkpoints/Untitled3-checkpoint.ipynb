{
 "cells": [
  {
   "cell_type": "code",
   "execution_count": 1,
   "id": "9e2d6e0b",
   "metadata": {},
   "outputs": [
    {
     "name": "stderr",
     "output_type": "stream",
     "text": [
      "22/01/19 14:05:01 WARN Utils: Your hostname, gautam resolves to a loopback address: 127.0.1.1; using 192.168.149.227 instead (on interface wlp3s0)\n",
      "22/01/19 14:05:01 WARN Utils: Set SPARK_LOCAL_IP if you need to bind to another address\n",
      "WARNING: An illegal reflective access operation has occurred\n",
      "WARNING: Illegal reflective access by org.apache.spark.unsafe.Platform (file:/home/gautam/.local/lib/python3.9/site-packages/pyspark/jars/spark-unsafe_2.12-3.2.0.jar) to constructor java.nio.DirectByteBuffer(long,int)\n",
      "WARNING: Please consider reporting this to the maintainers of org.apache.spark.unsafe.Platform\n",
      "WARNING: Use --illegal-access=warn to enable warnings of further illegal reflective access operations\n",
      "WARNING: All illegal access operations will be denied in a future release\n",
      "Using Spark's default log4j profile: org/apache/spark/log4j-defaults.properties\n",
      "Setting default log level to \"WARN\".\n",
      "To adjust logging level use sc.setLogLevel(newLevel). For SparkR, use setLogLevel(newLevel).\n",
      "22/01/19 14:05:01 WARN NativeCodeLoader: Unable to load native-hadoop library for your platform... using builtin-java classes where applicable\n",
      "22/01/19 14:05:01 WARN Utils: Service 'SparkUI' could not bind on port 4040. Attempting port 4041.\n",
      "22/01/19 14:05:01 WARN Utils: Service 'SparkUI' could not bind on port 4041. Attempting port 4042.\n",
      "22/01/19 14:05:01 WARN Utils: Service 'SparkUI' could not bind on port 4042. Attempting port 4043.\n"
     ]
    }
   ],
   "source": [
    "from pyspark.sql import SparkSession\n",
    "\n",
    "spark = SparkSession.builder.appName(\"pratise\").getOrCreate()"
   ]
  },
  {
   "cell_type": "code",
   "execution_count": 2,
   "id": "26abb316",
   "metadata": {},
   "outputs": [],
   "source": [
    "py_spark = spark.read.csv('test.csv', header=True, inferSchema=True)"
   ]
  },
  {
   "cell_type": "code",
   "execution_count": 3,
   "id": "7207d93e",
   "metadata": {},
   "outputs": [
    {
     "name": "stdout",
     "output_type": "stream",
     "text": [
      "+------+----+----------+------+\n",
      "|  Name| Age|experience|salary|\n",
      "+------+----+----------+------+\n",
      "|mukesh|  23|        10|  8999|\n",
      "|rakesh|  34|         3|   877|\n",
      "|rukesh|  33|         2|  2333|\n",
      "|  ravi|  23|        33| 23000|\n",
      "|  sonu|  34|         4|  3422|\n",
      "|  null|null|      null|  null|\n",
      "|  null|  43|      null|  null|\n",
      "|  null|  33|      null|  5555|\n",
      "|  null|  44|         4|  null|\n",
      "+------+----+----------+------+\n",
      "\n"
     ]
    }
   ],
   "source": [
    "py_spark.show()"
   ]
  },
  {
   "cell_type": "code",
   "execution_count": 4,
   "id": "e5d052fc",
   "metadata": {},
   "outputs": [
    {
     "name": "stdout",
     "output_type": "stream",
     "text": [
      "+------+---+----------+------+\n",
      "|  Name|Age|experience|salary|\n",
      "+------+---+----------+------+\n",
      "|mukesh| 23|        10|  8999|\n",
      "|rakesh| 34|         3|   877|\n",
      "|rukesh| 33|         2|  2333|\n",
      "|  sonu| 34|         4|  3422|\n",
      "|  null| 33|      null|  5555|\n",
      "+------+---+----------+------+\n",
      "\n"
     ]
    }
   ],
   "source": [
    "py_spark.filter(\"salary<=20000\").show()"
   ]
  },
  {
   "cell_type": "code",
   "execution_count": 5,
   "id": "c3b98294",
   "metadata": {},
   "outputs": [
    {
     "name": "stdout",
     "output_type": "stream",
     "text": [
      "+------+---+\n",
      "|  name|age|\n",
      "+------+---+\n",
      "|mukesh| 23|\n",
      "|rakesh| 34|\n",
      "|rukesh| 33|\n",
      "|  sonu| 34|\n",
      "|  null| 33|\n",
      "+------+---+\n",
      "\n"
     ]
    }
   ],
   "source": [
    "py_spark.filter(\"salary<=20000\").select(['name', 'age']).show()"
   ]
  },
  {
   "cell_type": "code",
   "execution_count": 7,
   "id": "86c18b04",
   "metadata": {},
   "outputs": [
    {
     "name": "stdout",
     "output_type": "stream",
     "text": [
      "+------+---+----------+------+\n",
      "|  Name|Age|experience|salary|\n",
      "+------+---+----------+------+\n",
      "|mukesh| 23|        10|  8999|\n",
      "|rakesh| 34|         3|   877|\n",
      "|rukesh| 33|         2|  2333|\n",
      "|  sonu| 34|         4|  3422|\n",
      "|  null| 33|      null|  5555|\n",
      "+------+---+----------+------+\n",
      "\n"
     ]
    }
   ],
   "source": [
    "py_spark.filter(py_spark['salary']<=20000).show()"
   ]
  },
  {
   "cell_type": "code",
   "execution_count": 13,
   "id": "ce111f02",
   "metadata": {},
   "outputs": [
    {
     "name": "stdout",
     "output_type": "stream",
     "text": [
      "+------+---+----------+------+\n",
      "|  Name|Age|experience|salary|\n",
      "+------+---+----------+------+\n",
      "|mukesh| 23|        10|  8999|\n",
      "+------+---+----------+------+\n",
      "\n"
     ]
    }
   ],
   "source": [
    "py_spark.filter((py_spark['salary']<= 20000) & (py_spark['salary'] >= 8000)).show()"
   ]
  },
  {
   "cell_type": "code",
   "execution_count": 14,
   "id": "4729dbec",
   "metadata": {},
   "outputs": [
    {
     "name": "stdout",
     "output_type": "stream",
     "text": [
      "+------+---+----------+------+\n",
      "|  Name|Age|experience|salary|\n",
      "+------+---+----------+------+\n",
      "|mukesh| 23|        10|  8999|\n",
      "|rakesh| 34|         3|   877|\n",
      "|rukesh| 33|         2|  2333|\n",
      "|  ravi| 23|        33| 23000|\n",
      "|  sonu| 34|         4|  3422|\n",
      "|  null| 33|      null|  5555|\n",
      "+------+---+----------+------+\n",
      "\n"
     ]
    }
   ],
   "source": [
    "py_spark.filter((py_spark['salary']<= 20000) | (py_spark['salary'] >= 8000)).show()"
   ]
  },
  {
   "cell_type": "code",
   "execution_count": 16,
   "id": "cca5b8d2",
   "metadata": {},
   "outputs": [
    {
     "name": "stdout",
     "output_type": "stream",
     "text": [
      "+----+---+----------+------+\n",
      "|Name|Age|experience|salary|\n",
      "+----+---+----------+------+\n",
      "|ravi| 23|        33| 23000|\n",
      "+----+---+----------+------+\n",
      "\n"
     ]
    }
   ],
   "source": [
    "py_spark.filter(~(py_spark['salary'] <= 20000)).show()"
   ]
  },
  {
   "cell_type": "code",
   "execution_count": null,
   "id": "b233d849",
   "metadata": {},
   "outputs": [],
   "source": []
  }
 ],
 "metadata": {
  "kernelspec": {
   "display_name": "Python 3 (ipykernel)",
   "language": "python",
   "name": "python3"
  },
  "language_info": {
   "codemirror_mode": {
    "name": "ipython",
    "version": 3
   },
   "file_extension": ".py",
   "mimetype": "text/x-python",
   "name": "python",
   "nbconvert_exporter": "python",
   "pygments_lexer": "ipython3",
   "version": "3.9.9"
  }
 },
 "nbformat": 4,
 "nbformat_minor": 5
}
