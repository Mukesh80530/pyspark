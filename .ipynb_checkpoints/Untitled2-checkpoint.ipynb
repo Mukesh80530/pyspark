{
 "cells": [
  {
   "cell_type": "code",
   "execution_count": 1,
   "id": "63221c22",
   "metadata": {},
   "outputs": [
    {
     "name": "stderr",
     "output_type": "stream",
     "text": [
      "22/01/19 12:53:58 WARN Utils: Your hostname, gautam resolves to a loopback address: 127.0.1.1; using 192.168.149.227 instead (on interface wlp3s0)\n",
      "22/01/19 12:53:58 WARN Utils: Set SPARK_LOCAL_IP if you need to bind to another address\n",
      "WARNING: An illegal reflective access operation has occurred\n",
      "WARNING: Illegal reflective access by org.apache.spark.unsafe.Platform (file:/home/gautam/.local/lib/python3.9/site-packages/pyspark/jars/spark-unsafe_2.12-3.2.0.jar) to constructor java.nio.DirectByteBuffer(long,int)\n",
      "WARNING: Please consider reporting this to the maintainers of org.apache.spark.unsafe.Platform\n",
      "WARNING: Use --illegal-access=warn to enable warnings of further illegal reflective access operations\n",
      "WARNING: All illegal access operations will be denied in a future release\n",
      "Using Spark's default log4j profile: org/apache/spark/log4j-defaults.properties\n",
      "Setting default log level to \"WARN\".\n",
      "To adjust logging level use sc.setLogLevel(newLevel). For SparkR, use setLogLevel(newLevel).\n",
      "22/01/19 12:53:59 WARN NativeCodeLoader: Unable to load native-hadoop library for your platform... using builtin-java classes where applicable\n",
      "22/01/19 12:53:59 WARN Utils: Service 'SparkUI' could not bind on port 4040. Attempting port 4041.\n",
      "22/01/19 12:53:59 WARN Utils: Service 'SparkUI' could not bind on port 4041. Attempting port 4042.\n"
     ]
    }
   ],
   "source": [
    "from pyspark.sql import SparkSession\n",
    "\n",
    "spark = SparkSession.builder.appName('pratise').getOrCreate()"
   ]
  },
  {
   "cell_type": "code",
   "execution_count": 3,
   "id": "893718ba",
   "metadata": {},
   "outputs": [],
   "source": [
    "df_pyspark = spark.read.csv('test.csv', header=True, inferSchema=True)"
   ]
  },
  {
   "cell_type": "code",
   "execution_count": 4,
   "id": "4dc908e0",
   "metadata": {},
   "outputs": [
    {
     "name": "stdout",
     "output_type": "stream",
     "text": [
      "+------+----+----------+------+\n",
      "|  Name| Age|experience|salary|\n",
      "+------+----+----------+------+\n",
      "|mukesh|  23|        10|  8999|\n",
      "|rakesh|  34|         3|   877|\n",
      "|rukesh|  33|         2|  2333|\n",
      "|  ravi|  23|        33| 23000|\n",
      "|  sonu|  34|         4|  3422|\n",
      "|  null|null|      null|  null|\n",
      "|  null|  43|      null|  null|\n",
      "|  null|  33|      null|  5555|\n",
      "|  null|  44|         4|  null|\n",
      "+------+----+----------+------+\n",
      "\n"
     ]
    }
   ],
   "source": [
    "df_pyspark.show()"
   ]
  },
  {
   "cell_type": "code",
   "execution_count": 5,
   "id": "4c9c329c",
   "metadata": {},
   "outputs": [
    {
     "data": {
      "text/plain": [
       "DataFrame[Name: string, Age: int, experience: int, salary: int]"
      ]
     },
     "execution_count": 5,
     "metadata": {},
     "output_type": "execute_result"
    }
   ],
   "source": [
    "df_pyspark.drop('column_name')"
   ]
  },
  {
   "cell_type": "code",
   "execution_count": 6,
   "id": "3d4aca74",
   "metadata": {},
   "outputs": [
    {
     "name": "stdout",
     "output_type": "stream",
     "text": [
      "+------+----+----------+------+\n",
      "|  Name| Age|experience|salary|\n",
      "+------+----+----------+------+\n",
      "|mukesh|  23|        10|  8999|\n",
      "|rakesh|  34|         3|   877|\n",
      "|rukesh|  33|         2|  2333|\n",
      "|  ravi|  23|        33| 23000|\n",
      "|  sonu|  34|         4|  3422|\n",
      "|  null|null|      null|  null|\n",
      "|  null|  43|      null|  null|\n",
      "|  null|  33|      null|  5555|\n",
      "|  null|  44|         4|  null|\n",
      "+------+----+----------+------+\n",
      "\n"
     ]
    }
   ],
   "source": [
    "df_pyspark.show()"
   ]
  },
  {
   "cell_type": "code",
   "execution_count": 8,
   "id": "1f8eebfe",
   "metadata": {},
   "outputs": [
    {
     "name": "stdout",
     "output_type": "stream",
     "text": [
      "+------+---+----------+------+\n",
      "|  Name|Age|experience|salary|\n",
      "+------+---+----------+------+\n",
      "|mukesh| 23|        10|  8999|\n",
      "|rakesh| 34|         3|   877|\n",
      "|rukesh| 33|         2|  2333|\n",
      "|  ravi| 23|        33| 23000|\n",
      "|  sonu| 34|         4|  3422|\n",
      "+------+---+----------+------+\n",
      "\n"
     ]
    }
   ],
   "source": [
    "df_pyspark.na.drop().show()"
   ]
  },
  {
   "cell_type": "code",
   "execution_count": 10,
   "id": "d3950f0f",
   "metadata": {},
   "outputs": [
    {
     "name": "stdout",
     "output_type": "stream",
     "text": [
      "+------+---+----------+------+\n",
      "|  Name|Age|experience|salary|\n",
      "+------+---+----------+------+\n",
      "|mukesh| 23|        10|  8999|\n",
      "|rakesh| 34|         3|   877|\n",
      "|rukesh| 33|         2|  2333|\n",
      "|  ravi| 23|        33| 23000|\n",
      "|  sonu| 34|         4|  3422|\n",
      "|  null| 43|      null|  null|\n",
      "|  null| 33|      null|  5555|\n",
      "|  null| 44|         4|  null|\n",
      "+------+---+----------+------+\n",
      "\n"
     ]
    }
   ],
   "source": [
    "df_pyspark.na.drop(how='all').show()"
   ]
  },
  {
   "cell_type": "code",
   "execution_count": 11,
   "id": "87f5a03f",
   "metadata": {},
   "outputs": [
    {
     "name": "stdout",
     "output_type": "stream",
     "text": [
      "+------+---+----------+------+\n",
      "|  Name|Age|experience|salary|\n",
      "+------+---+----------+------+\n",
      "|mukesh| 23|        10|  8999|\n",
      "|rakesh| 34|         3|   877|\n",
      "|rukesh| 33|         2|  2333|\n",
      "|  ravi| 23|        33| 23000|\n",
      "|  sonu| 34|         4|  3422|\n",
      "+------+---+----------+------+\n",
      "\n"
     ]
    }
   ],
   "source": [
    "df_pyspark.na.drop(how='any').show()"
   ]
  },
  {
   "cell_type": "code",
   "execution_count": 12,
   "id": "f3c9535b",
   "metadata": {},
   "outputs": [
    {
     "name": "stdout",
     "output_type": "stream",
     "text": [
      "+------+---+----------+------+\n",
      "|  Name|Age|experience|salary|\n",
      "+------+---+----------+------+\n",
      "|mukesh| 23|        10|  8999|\n",
      "|rakesh| 34|         3|   877|\n",
      "|rukesh| 33|         2|  2333|\n",
      "|  ravi| 23|        33| 23000|\n",
      "|  sonu| 34|         4|  3422|\n",
      "|  null| 33|      null|  5555|\n",
      "|  null| 44|         4|  null|\n",
      "+------+---+----------+------+\n",
      "\n"
     ]
    }
   ],
   "source": [
    "df_pyspark.na.drop(how='any', thresh=2).show()"
   ]
  },
  {
   "cell_type": "code",
   "execution_count": 13,
   "id": "741e5dec",
   "metadata": {},
   "outputs": [
    {
     "name": "stdout",
     "output_type": "stream",
     "text": [
      "+------+---+----------+------+\n",
      "|  Name|Age|experience|salary|\n",
      "+------+---+----------+------+\n",
      "|mukesh| 23|        10|  8999|\n",
      "|rakesh| 34|         3|   877|\n",
      "|rukesh| 33|         2|  2333|\n",
      "|  ravi| 23|        33| 23000|\n",
      "|  sonu| 34|         4|  3422|\n",
      "+------+---+----------+------+\n",
      "\n"
     ]
    }
   ],
   "source": [
    "df_pyspark.na.drop(how='any', thresh=3).show()"
   ]
  },
  {
   "cell_type": "code",
   "execution_count": 15,
   "id": "3350d5c3",
   "metadata": {},
   "outputs": [
    {
     "name": "stdout",
     "output_type": "stream",
     "text": [
      "+------+---+----------+------+\n",
      "|  Name|Age|experience|salary|\n",
      "+------+---+----------+------+\n",
      "|mukesh| 23|        10|  8999|\n",
      "|rakesh| 34|         3|   877|\n",
      "|rukesh| 33|         2|  2333|\n",
      "|  ravi| 23|        33| 23000|\n",
      "|  sonu| 34|         4|  3422|\n",
      "|  null| 44|         4|  null|\n",
      "+------+---+----------+------+\n",
      "\n"
     ]
    }
   ],
   "source": [
    "df_pyspark.na.drop(how='any', subset=['experience']).show()"
   ]
  },
  {
   "cell_type": "code",
   "execution_count": 16,
   "id": "6ef19e97",
   "metadata": {},
   "outputs": [
    {
     "name": "stdout",
     "output_type": "stream",
     "text": [
      "+--------------+----+----------+------+\n",
      "|          Name| Age|experience|salary|\n",
      "+--------------+----+----------+------+\n",
      "|        mukesh|  23|        10|  8999|\n",
      "|        rakesh|  34|         3|   877|\n",
      "|        rukesh|  33|         2|  2333|\n",
      "|          ravi|  23|        33| 23000|\n",
      "|          sonu|  34|         4|  3422|\n",
      "|Missing Values|null|      null|  null|\n",
      "|Missing Values|  43|      null|  null|\n",
      "|Missing Values|  33|      null|  5555|\n",
      "|Missing Values|  44|         4|  null|\n",
      "+--------------+----+----------+------+\n",
      "\n"
     ]
    }
   ],
   "source": [
    "df_pyspark.na.fill('Missing Values').show()"
   ]
  },
  {
   "cell_type": "code",
   "execution_count": 17,
   "id": "55f659ab",
   "metadata": {},
   "outputs": [
    {
     "name": "stdout",
     "output_type": "stream",
     "text": [
      "+------+----+----------+------+\n",
      "|  Name| Age|experience|salary|\n",
      "+------+----+----------+------+\n",
      "|mukesh|  23|        10|  8999|\n",
      "|rakesh|  34|         3|   877|\n",
      "|rukesh|  33|         2|  2333|\n",
      "|  ravi|  23|        33| 23000|\n",
      "|  sonu|  34|         4|  3422|\n",
      "|  null|null|      null|  null|\n",
      "|  null|  43|      null|  null|\n",
      "|  null|  33|      null|  5555|\n",
      "|  null|  44|         4|  null|\n",
      "+------+----+----------+------+\n",
      "\n"
     ]
    }
   ],
   "source": [
    "df_pyspark.na.fill('Missing Values', 'experience').show()"
   ]
  },
  {
   "cell_type": "code",
   "execution_count": 19,
   "id": "117f9b0f",
   "metadata": {},
   "outputs": [
    {
     "name": "stdout",
     "output_type": "stream",
     "text": [
      "+------+----+----------+------+\n",
      "|  Name| Age|experience|salary|\n",
      "+------+----+----------+------+\n",
      "|mukesh|  23|        10|  8999|\n",
      "|rakesh|  34|         3|   877|\n",
      "|rukesh|  33|         2|  2333|\n",
      "|  ravi|  23|        33| 23000|\n",
      "|  sonu|  34|         4|  3422|\n",
      "|  null|null|      null|  null|\n",
      "|  null|  43|      null|  null|\n",
      "|  null|  33|      null|  5555|\n",
      "|  null|  44|         4|  null|\n",
      "+------+----+----------+------+\n",
      "\n"
     ]
    }
   ],
   "source": [
    "df_pyspark.na.fill('Missing Values', ['experience', 'age']).show()"
   ]
  },
  {
   "cell_type": "code",
   "execution_count": null,
   "id": "26473976",
   "metadata": {},
   "outputs": [],
   "source": []
  }
 ],
 "metadata": {
  "kernelspec": {
   "display_name": "Python 3 (ipykernel)",
   "language": "python",
   "name": "python3"
  },
  "language_info": {
   "codemirror_mode": {
    "name": "ipython",
    "version": 3
   },
   "file_extension": ".py",
   "mimetype": "text/x-python",
   "name": "python",
   "nbconvert_exporter": "python",
   "pygments_lexer": "ipython3",
   "version": "3.9.9"
  }
 },
 "nbformat": 4,
 "nbformat_minor": 5
}
