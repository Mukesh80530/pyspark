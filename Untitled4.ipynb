{
 "cells": [
  {
   "cell_type": "code",
   "execution_count": 1,
   "id": "346ad317",
   "metadata": {},
   "outputs": [
    {
     "name": "stderr",
     "output_type": "stream",
     "text": [
      "22/01/19 14:16:28 WARN Utils: Your hostname, gautam resolves to a loopback address: 127.0.1.1; using 192.168.149.227 instead (on interface wlp3s0)\n",
      "22/01/19 14:16:28 WARN Utils: Set SPARK_LOCAL_IP if you need to bind to another address\n",
      "WARNING: An illegal reflective access operation has occurred\n",
      "WARNING: Illegal reflective access by org.apache.spark.unsafe.Platform (file:/home/gautam/.local/lib/python3.9/site-packages/pyspark/jars/spark-unsafe_2.12-3.2.0.jar) to constructor java.nio.DirectByteBuffer(long,int)\n",
      "WARNING: Please consider reporting this to the maintainers of org.apache.spark.unsafe.Platform\n",
      "WARNING: Use --illegal-access=warn to enable warnings of further illegal reflective access operations\n",
      "WARNING: All illegal access operations will be denied in a future release\n",
      "Using Spark's default log4j profile: org/apache/spark/log4j-defaults.properties\n",
      "Setting default log level to \"WARN\".\n",
      "To adjust logging level use sc.setLogLevel(newLevel). For SparkR, use setLogLevel(newLevel).\n",
      "22/01/19 14:16:29 WARN NativeCodeLoader: Unable to load native-hadoop library for your platform... using builtin-java classes where applicable\n",
      "22/01/19 14:16:29 WARN Utils: Service 'SparkUI' could not bind on port 4040. Attempting port 4041.\n",
      "22/01/19 14:16:29 WARN Utils: Service 'SparkUI' could not bind on port 4041. Attempting port 4042.\n",
      "22/01/19 14:16:29 WARN Utils: Service 'SparkUI' could not bind on port 4042. Attempting port 4043.\n",
      "22/01/19 14:16:29 WARN Utils: Service 'SparkUI' could not bind on port 4043. Attempting port 4044.\n"
     ]
    }
   ],
   "source": [
    "from pyspark.sql import SparkSession\n",
    "\n",
    "spark = SparkSession.builder.appName(\"pratise\").getOrCreate()"
   ]
  },
  {
   "cell_type": "code",
   "execution_count": 5,
   "id": "2c8416f6",
   "metadata": {},
   "outputs": [],
   "source": [
    "py_spark = spark.read.csv('test.csv', header=True, inferSchema=True)"
   ]
  },
  {
   "cell_type": "code",
   "execution_count": 6,
   "id": "b32a456a",
   "metadata": {},
   "outputs": [
    {
     "name": "stdout",
     "output_type": "stream",
     "text": [
      "+--------+---+----------+------+------------+\n",
      "|    name|age|experience|salary|  department|\n",
      "+--------+---+----------+------+------------+\n",
      "|  mukesh| 23|        10|  8999|data science|\n",
      "|  rakesh| 34|         3|   877|         IOT|\n",
      "|  rukesh| 33|         2|  2333|    Big Data|\n",
      "|    ravi| 23|        33| 23000|    Big Data|\n",
      "|    sonu| 34|         4|  3422|data science|\n",
      "|    monu| 34|         2|  3673|data science|\n",
      "|rajkumar| 43|         4|  6765|         IOT|\n",
      "|   Subhu| 33|         7|  5555|    Big Data|\n",
      "|  gautam| 44|         4| 87878|          AI|\n",
      "|  suresh| 88|        46| 87878|         NLP|\n",
      "|   sunny| 77|        77|  7677|         IVP|\n",
      "+--------+---+----------+------+------------+\n",
      "\n"
     ]
    }
   ],
   "source": [
    "py_spark.show()"
   ]
  },
  {
   "cell_type": "code",
   "execution_count": 7,
   "id": "5142d257",
   "metadata": {},
   "outputs": [
    {
     "name": "stdout",
     "output_type": "stream",
     "text": [
      "root\n",
      " |-- name: string (nullable = true)\n",
      " |-- age: integer (nullable = true)\n",
      " |-- experience: integer (nullable = true)\n",
      " |-- salary: integer (nullable = true)\n",
      " |-- department: string (nullable = true)\n",
      "\n"
     ]
    }
   ],
   "source": [
    "py_spark.printSchema()"
   ]
  },
  {
   "cell_type": "code",
   "execution_count": 11,
   "id": "e298c978",
   "metadata": {},
   "outputs": [
    {
     "name": "stdout",
     "output_type": "stream",
     "text": [
      "+--------+--------+---------------+-----------+\n",
      "|    name|sum(age)|sum(experience)|sum(salary)|\n",
      "+--------+--------+---------------+-----------+\n",
      "|  suresh|      88|             46|      87878|\n",
      "|  rakesh|      34|              3|        877|\n",
      "|  rukesh|      33|              2|       2333|\n",
      "|  gautam|      44|              4|      87878|\n",
      "|    monu|      34|              2|       3673|\n",
      "|   sunny|      77|             77|       7677|\n",
      "|    ravi|      23|             33|      23000|\n",
      "|    sonu|      34|              4|       3422|\n",
      "|   Subhu|      33|              7|       5555|\n",
      "|rajkumar|      43|              4|       6765|\n",
      "|  mukesh|      23|             10|       8999|\n",
      "+--------+--------+---------------+-----------+\n",
      "\n"
     ]
    }
   ],
   "source": [
    "py_spark.groupBy('name').sum().show()"
   ]
  },
  {
   "cell_type": "code",
   "execution_count": 12,
   "id": "3226605f",
   "metadata": {},
   "outputs": [
    {
     "name": "stdout",
     "output_type": "stream",
     "text": [
      "+------------+--------+---------------+-----------+\n",
      "|  department|sum(age)|sum(experience)|sum(salary)|\n",
      "+------------+--------+---------------+-----------+\n",
      "|         IVP|      77|             77|       7677|\n",
      "|         IOT|      77|              7|       7642|\n",
      "|data science|      91|             16|      16094|\n",
      "|         NLP|      88|             46|      87878|\n",
      "|          AI|      44|              4|      87878|\n",
      "|    Big Data|      89|             42|      30888|\n",
      "+------------+--------+---------------+-----------+\n",
      "\n"
     ]
    }
   ],
   "source": [
    "py_spark.groupBy('department').sum().show()"
   ]
  },
  {
   "cell_type": "code",
   "execution_count": 13,
   "id": "c3e5f600",
   "metadata": {},
   "outputs": [
    {
     "name": "stdout",
     "output_type": "stream",
     "text": [
      "+------------+------------------+-----------------+-----------------+\n",
      "|  department|          avg(age)|  avg(experience)|      avg(salary)|\n",
      "+------------+------------------+-----------------+-----------------+\n",
      "|         IVP|              77.0|             77.0|           7677.0|\n",
      "|         IOT|              38.5|              3.5|           3821.0|\n",
      "|data science|30.333333333333332|5.333333333333333|5364.666666666667|\n",
      "|         NLP|              88.0|             46.0|          87878.0|\n",
      "|          AI|              44.0|              4.0|          87878.0|\n",
      "|    Big Data|29.666666666666668|             14.0|          10296.0|\n",
      "+------------+------------------+-----------------+-----------------+\n",
      "\n"
     ]
    }
   ],
   "source": [
    "py_spark.groupBy('department').mean().show()"
   ]
  },
  {
   "cell_type": "code",
   "execution_count": 14,
   "id": "c2dec407",
   "metadata": {},
   "outputs": [
    {
     "name": "stdout",
     "output_type": "stream",
     "text": [
      "+------------+-----+\n",
      "|  department|count|\n",
      "+------------+-----+\n",
      "|         IVP|    1|\n",
      "|         IOT|    2|\n",
      "|data science|    3|\n",
      "|         NLP|    1|\n",
      "|          AI|    1|\n",
      "|    Big Data|    3|\n",
      "+------------+-----+\n",
      "\n"
     ]
    }
   ],
   "source": [
    "py_spark.groupBy('department').count().show()"
   ]
  },
  {
   "cell_type": "code",
   "execution_count": 15,
   "id": "6f6a4fa0",
   "metadata": {},
   "outputs": [
    {
     "name": "stdout",
     "output_type": "stream",
     "text": [
      "+-----------+\n",
      "|sum(salary)|\n",
      "+-----------+\n",
      "|     238057|\n",
      "+-----------+\n",
      "\n"
     ]
    }
   ],
   "source": [
    "py_spark.agg({'salary': 'sum'}).show()"
   ]
  },
  {
   "cell_type": "code",
   "execution_count": 16,
   "id": "e60c0846",
   "metadata": {},
   "outputs": [
    {
     "name": "stdout",
     "output_type": "stream",
     "text": [
      "+------------+--------+---------------+-----------+\n",
      "|  department|max(age)|max(experience)|max(salary)|\n",
      "+------------+--------+---------------+-----------+\n",
      "|         IVP|      77|             77|       7677|\n",
      "|         IOT|      43|              4|       6765|\n",
      "|data science|      34|             10|       8999|\n",
      "|         NLP|      88|             46|      87878|\n",
      "|          AI|      44|              4|      87878|\n",
      "|    Big Data|      33|             33|      23000|\n",
      "+------------+--------+---------------+-----------+\n",
      "\n"
     ]
    }
   ],
   "source": [
    "py_spark.groupBy('department').max().show()"
   ]
  },
  {
   "cell_type": "code",
   "execution_count": 17,
   "id": "6f3f346a",
   "metadata": {},
   "outputs": [
    {
     "name": "stdout",
     "output_type": "stream",
     "text": [
      "+------------+--------+---------------+-----------+\n",
      "|  department|min(age)|min(experience)|min(salary)|\n",
      "+------------+--------+---------------+-----------+\n",
      "|         IVP|      77|             77|       7677|\n",
      "|         IOT|      34|              3|        877|\n",
      "|data science|      23|              2|       3422|\n",
      "|         NLP|      88|             46|      87878|\n",
      "|          AI|      44|              4|      87878|\n",
      "|    Big Data|      23|              2|       2333|\n",
      "+------------+--------+---------------+-----------+\n",
      "\n"
     ]
    }
   ],
   "source": [
    "py_spark.groupBy('department').min().show()"
   ]
  },
  {
   "cell_type": "code",
   "execution_count": null,
   "id": "bea23d48",
   "metadata": {},
   "outputs": [],
   "source": []
  }
 ],
 "metadata": {
  "kernelspec": {
   "display_name": "Python 3 (ipykernel)",
   "language": "python",
   "name": "python3"
  },
  "language_info": {
   "codemirror_mode": {
    "name": "ipython",
    "version": 3
   },
   "file_extension": ".py",
   "mimetype": "text/x-python",
   "name": "python",
   "nbconvert_exporter": "python",
   "pygments_lexer": "ipython3",
   "version": "3.9.9"
  }
 },
 "nbformat": 4,
 "nbformat_minor": 5
}
